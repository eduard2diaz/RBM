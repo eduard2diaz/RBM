{
 "cells": [
  {
   "cell_type": "markdown",
   "id": "639e5586",
   "metadata": {},
   "source": [
    "## Creando una RBM para MNIST"
   ]
  },
  {
   "cell_type": "code",
   "execution_count": 1,
   "id": "676563eb",
   "metadata": {},
   "outputs": [],
   "source": [
    "import matplotlib.pyplot as plt\n",
    "from sklearn import datasets\n",
    "import numpy as np"
   ]
  },
  {
   "cell_type": "markdown",
   "id": "fe76e611",
   "metadata": {},
   "source": [
    "### Conjunto de datos"
   ]
  },
  {
   "cell_type": "code",
   "execution_count": 2,
   "id": "05590d42",
   "metadata": {},
   "outputs": [
    {
     "name": "stdout",
     "output_type": "stream",
     "text": [
      "Data shape: (1797, 8, 8), Target shape: (1797,)\n"
     ]
    },
    {
     "data": {
      "image/png": "[encoded data removed]",
      "text/plain": [
       "<Figure size 720x216 with 8 Axes>"
      ]
     },
     "metadata": {
      "needs_background": "light"
     },
     "output_type": "display_data"
    }
   ],
   "source": [
    "digits = datasets.load_digits()\n",
    "\n",
    "def drawDataSet(X, y):\n",
    "    _, axes = plt.subplots(nrows=1, ncols=8, figsize=(10, 3))\n",
    "    for ax, image, label in zip(axes, X, y):\n",
    "        ax.set_axis_off()\n",
    "        ax.imshow(image, cmap=plt.cm.gray_r, interpolation=\"nearest\")\n",
    "        ax.set_title(\"Label: %i\" % label)\n",
    "        \n",
    "print(f'Data shape: {digits.images.shape}, Target shape: {digits.target.shape}')\n",
    "drawDataSet(digits.images, digits.target)"
   ]
  },
  {
   "cell_type": "markdown",
   "id": "031bc634",
   "metadata": {},
   "source": [
    "### Transformando los datos"
   ]
  },
  {
   "cell_type": "code",
   "execution_count": 3,
   "id": "09aab6ec",
   "metadata": {},
   "outputs": [
    {
     "name": "stdout",
     "output_type": "stream",
     "text": [
      "(1797, 64)\n"
     ]
    }
   ],
   "source": [
    "X , y = digits.images, digits.target\n",
    "\n",
    "X = X.reshape((-1,64))\n",
    "print(X.shape)\n",
    "\n",
    "X /= 255.0"
   ]
  },
  {
   "cell_type": "markdown",
   "id": "5d18ef2c",
   "metadata": {},
   "source": [
    "### Particionado de datos"
   ]
  },
  {
   "cell_type": "code",
   "execution_count": 4,
   "id": "d80bf942",
   "metadata": {},
   "outputs": [
    {
     "name": "stdout",
     "output_type": "stream",
     "text": [
      "X_train shape: (1347, 64), X_test shape: (450, 64)\n"
     ]
    },
    {
     "data": {
      "image/png": "[encoded data removed]",
      "text/plain": [
       "<Figure size 720x216 with 8 Axes>"
      ]
     },
     "metadata": {
      "needs_background": "light"
     },
     "output_type": "display_data"
    }
   ],
   "source": [
    "from sklearn.model_selection import train_test_split\n",
    "\n",
    "X_train, X_test, y_train, y_test = train_test_split(X, y, test_size=0.25, random_state=42)\n",
    "print(f'X_train shape: {X_train.shape}, X_test shape: {X_test.shape}')\n",
    "drawDataSet(X_train.reshape((-1,8,8)), y_train)"
   ]
  },
  {
   "cell_type": "code",
   "execution_count": null,
   "id": "949386c2",
   "metadata": {},
   "outputs": [],
   "source": []
  }
 ],
 "metadata": {
  "kernelspec": {
   "display_name": "Python 3 (ipykernel)",
   "language": "python",
   "name": "python3"
  },
  "language_info": {
   "codemirror_mode": {
    "name": "ipython",
    "version": 3
   },
   "file_extension": ".py",
   "mimetype": "text/x-python",
   "name": "python",
   "nbconvert_exporter": "python",
   "pygments_lexer": "ipython3",
   "version": "3.9.7"
  }
 },
 "nbformat": 4,
 "nbformat_minor": 5
}
